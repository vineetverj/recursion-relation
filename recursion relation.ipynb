{
 "cells": [
  {
   "cell_type": "code",
   "execution_count": null,
   "id": "90d2a0f9-a9be-4e15-ac83-f9d409eac9b9",
   "metadata": {},
   "outputs": [],
   "source": [
    " Find the val%e of T(2) for the rec%rrence relation T(n) = 3T(n-1) + 12n, given that T(0)=5."
   ]
  },
  {
   "cell_type": "code",
   "execution_count": null,
   "id": "f0b8773b-0611-48ab-be7c-7c1c0dccd4be",
   "metadata": {},
   "outputs": [],
   "source": [
    "\n",
    "Certainly! To find the value of T(2) for the given recurrence relation T(n) = 3T(n-1) + 12n and T(0) = 5,\n",
    "we can directly calculate it using the provided formula:\n",
    "\n",
    "T(2) = 3 * T(2-1) + 12 * 2\n",
    "\n",
    "1. Substitute T(1):\n",
    "\n",
    "We don't have T(1) explicitly, but we can use the recurrence relation again to find it:\n",
    "\n",
    "T(1) = 3 * T(1-1) + 12 * 1\n",
    "\n",
    "T(1) = 3 * T(0) + 12 * 1 (using T(0) = 5)\n",
    "\n",
    "T(1) = 3 * 5 + 12 * 1\n",
    "\n",
    "T(1) = 21\n",
    "\n",
    "2. Substitute T(1) in T(2):\n",
    "\n",
    "T(2) = 3 * T(1) + 12 * 2\n",
    "\n",
    "T(2) = 3 * 21 + 12 * 2\n",
    "\n",
    "T(2) = 63 + 24\n",
    "\n",
    "T(2) = 87\n",
    "\n",
    "Therefore, the value of T(2) for the given recurrence relation and initial condition is 87."
   ]
  },
  {
   "cell_type": "code",
   "execution_count": null,
   "id": "7e2c6206-35bc-4a75-9f91-7e59df8e78ce",
   "metadata": {},
   "outputs": [],
   "source": [
    "2. Given a rec%rrence relation, solve it %sing the s%bstit%tion method:\n",
    "a. T(n) = T(n-1) + c\n",
    "b. T(n) = 2T(n/2) + n\n",
    "c. T(n) = 2T(n/2) + c\n",
    "d. T(n) = T(n/2) + c"
   ]
  },
  {
   "cell_type": "code",
   "execution_count": null,
   "id": "9b95701e-071d-4c05-acd5-6d256818909d",
   "metadata": {},
   "outputs": [],
   "source": [
    "### Solutions\n",
    "\n",
    "#### 1. Value of T(2) for the recurrence relation \\(T(n) = 3T(n-1) + 12n\\), given that \\(T(0)=5\\).\n",
    "\n",
    "The value of \\(T(2)\\) is \\(105\\).\n",
    "\n",
    "#### 2. Solving the given recurrence relations using the substitution method:\n",
    "\n",
    "a. \\(T(n) = T(n-1) + c\\)\n",
    "\n",
    "This represents a linear recurrence relation. Solving it, we get \\(T(n) = cn + T(0)\\), where \\(T(0)\\) is the base case.\n",
    "\n",
    "b. \\(T(n) = 2T(n/2) + n\\)\n",
    "\n",
    "This is a case of the Master Theorem, representing \\(O(n \\log n)\\) complexity.\n",
    "\n",
    "c. \\(T(n) = 2T(n/2) + c\\)\n",
    "\n",
    "Also a Master Theorem case, this simplifies to \\(O(n)\\), assuming \\(c\\) is constant.\n",
    "\n",
    "d. \\(T(n) = T(n/2) + c\\)\n",
    "\n",
    "This represents a binary search-like recurrence, leading to \\(O(\\log n)\\) complexity.\n",
    "\n",
    "#### 3. Solving the given recurrence relations using the recursive tree approach:\n",
    "\n",
    "a. \\(T(n) = 2T(n-1) +1\\)\n",
    "\n",
    "Using a recursive tree, each level doubles the number of \\(T\\) terms and adds 1 per node. This represents exponential growth with a base of 2, \n",
    "leading to \\(O(2^n)\\).\n",
    "\n",
    "b. \\(T(n) = 2T(n/2) + n\\)\n",
    "\n",
    "With the recursive tree, each level halves \\(n\\) for \\(T\\) but doubles the number of \\(T\\) terms, and adds \\(n\\) at each level. \n",
    "Summing across the levels, we see the work at each level remains \\(O(n)\\), leading to \\(O(n \\log n)\\) due to the log depth of the tree.\n",
    "\n",
    "These solutions provide a basic \n",
    "\n",
    "\n",
    "\n",
    "\n",
    "understanding of how to approach solving recurrence relations using substitution and recursive tree methods, though the actual solving process,\n",
    "especially for substitution, involves algebraic manipulations that are best done manually."
   ]
  },
  {
   "cell_type": "code",
   "execution_count": null,
   "id": "0caeb7fb-f13b-4a5a-aa0f-c6b3f59af1fa",
   "metadata": {},
   "outputs": [],
   "source": [
    "3. Given a rec%rrence relation, solve it %sing the rec%rsive tree approach:\n",
    "a. T(n) = 2T(n-1) +1\n",
    "b. T(n) = 2T(n/2) + n"
   ]
  },
  {
   "cell_type": "code",
   "execution_count": null,
   "id": "2c04b22c-7b1b-4e67-ade1-906b48803169",
   "metadata": {},
   "outputs": [],
   "source": []
  }
 ],
 "metadata": {
  "kernelspec": {
   "display_name": "Python 3 (ipykernel)",
   "language": "python",
   "name": "python3"
  },
  "language_info": {
   "codemirror_mode": {
    "name": "ipython",
    "version": 3
   },
   "file_extension": ".py",
   "mimetype": "text/x-python",
   "name": "python",
   "nbconvert_exporter": "python",
   "pygments_lexer": "ipython3",
   "version": "3.10.8"
  }
 },
 "nbformat": 4,
 "nbformat_minor": 5
}
